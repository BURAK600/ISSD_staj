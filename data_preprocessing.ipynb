{
 "cells": [
  {
   "cell_type": "code",
   "execution_count": 21,
   "id": "61be86e4",
   "metadata": {},
   "outputs": [],
   "source": [
    "import pandas as pd\n",
    "import numpy as np\n",
    "import matplotlib.pyplot as plt\n"
   ]
  },
  {
   "cell_type": "code",
   "execution_count": 22,
   "id": "4d2265b8",
   "metadata": {},
   "outputs": [
    {
     "data": {
      "text/html": [
       "<div>\n",
       "<style scoped>\n",
       "    .dataframe tbody tr th:only-of-type {\n",
       "        vertical-align: middle;\n",
       "    }\n",
       "\n",
       "    .dataframe tbody tr th {\n",
       "        vertical-align: top;\n",
       "    }\n",
       "\n",
       "    .dataframe thead th {\n",
       "        text-align: right;\n",
       "    }\n",
       "</style>\n",
       "<table border=\"1\" class=\"dataframe\">\n",
       "  <thead>\n",
       "    <tr style=\"text-align: right;\">\n",
       "      <th></th>\n",
       "      <th>client_id</th>\n",
       "      <th>loan_type</th>\n",
       "      <th>loan_amount</th>\n",
       "      <th>repaid</th>\n",
       "      <th>loan_id</th>\n",
       "      <th>loan_start</th>\n",
       "      <th>loan_end</th>\n",
       "      <th>rate</th>\n",
       "    </tr>\n",
       "  </thead>\n",
       "  <tbody>\n",
       "    <tr>\n",
       "      <th>0</th>\n",
       "      <td>46109</td>\n",
       "      <td>home</td>\n",
       "      <td>13672.0</td>\n",
       "      <td>0</td>\n",
       "      <td>10243</td>\n",
       "      <td>2002-04-16</td>\n",
       "      <td>2003-12-20</td>\n",
       "      <td>2.15</td>\n",
       "    </tr>\n",
       "    <tr>\n",
       "      <th>1</th>\n",
       "      <td>46109</td>\n",
       "      <td>credit</td>\n",
       "      <td>9794.0</td>\n",
       "      <td>0</td>\n",
       "      <td>10984</td>\n",
       "      <td>2003-10-21</td>\n",
       "      <td>2005-07-17</td>\n",
       "      <td>1.25</td>\n",
       "    </tr>\n",
       "    <tr>\n",
       "      <th>2</th>\n",
       "      <td>46109</td>\n",
       "      <td>home</td>\n",
       "      <td>12734.0</td>\n",
       "      <td>1</td>\n",
       "      <td>10990</td>\n",
       "      <td>2006-02-01</td>\n",
       "      <td>2007-07-05</td>\n",
       "      <td>0.68</td>\n",
       "    </tr>\n",
       "    <tr>\n",
       "      <th>3</th>\n",
       "      <td>46109</td>\n",
       "      <td>cash</td>\n",
       "      <td>12518.0</td>\n",
       "      <td>1</td>\n",
       "      <td>10596</td>\n",
       "      <td>2010-12-08</td>\n",
       "      <td>2013-05-05</td>\n",
       "      <td>1.24</td>\n",
       "    </tr>\n",
       "    <tr>\n",
       "      <th>4</th>\n",
       "      <td>46109</td>\n",
       "      <td>credit</td>\n",
       "      <td>NaN</td>\n",
       "      <td>1</td>\n",
       "      <td>11415</td>\n",
       "      <td>2010-07-07</td>\n",
       "      <td>2012-05-21</td>\n",
       "      <td>3.13</td>\n",
       "    </tr>\n",
       "  </tbody>\n",
       "</table>\n",
       "</div>"
      ],
      "text/plain": [
       "   client_id loan_type  loan_amount  repaid  loan_id  loan_start    loan_end  \\\n",
       "0      46109      home      13672.0       0    10243  2002-04-16  2003-12-20   \n",
       "1      46109    credit       9794.0       0    10984  2003-10-21  2005-07-17   \n",
       "2      46109      home      12734.0       1    10990  2006-02-01  2007-07-05   \n",
       "3      46109      cash      12518.0       1    10596  2010-12-08  2013-05-05   \n",
       "4      46109    credit          NaN       1    11415  2010-07-07  2012-05-21   \n",
       "\n",
       "   rate  \n",
       "0  2.15  \n",
       "1  1.25  \n",
       "2  0.68  \n",
       "3  1.24  \n",
       "4  3.13  "
      ]
     },
     "execution_count": 22,
     "metadata": {},
     "output_type": "execute_result"
    }
   ],
   "source": [
    "data = pd.read_csv(r\"loans_kayıp.csv\")\n",
    "data.head()\n"
   ]
  },
  {
   "cell_type": "code",
   "execution_count": 23,
   "id": "3d12ce19",
   "metadata": {},
   "outputs": [
    {
     "data": {
      "text/html": [
       "<div>\n",
       "<style scoped>\n",
       "    .dataframe tbody tr th:only-of-type {\n",
       "        vertical-align: middle;\n",
       "    }\n",
       "\n",
       "    .dataframe tbody tr th {\n",
       "        vertical-align: top;\n",
       "    }\n",
       "\n",
       "    .dataframe thead th {\n",
       "        text-align: right;\n",
       "    }\n",
       "</style>\n",
       "<table border=\"1\" class=\"dataframe\">\n",
       "  <thead>\n",
       "    <tr style=\"text-align: right;\">\n",
       "      <th></th>\n",
       "      <th>client_id</th>\n",
       "      <th>loan_amount</th>\n",
       "      <th>repaid</th>\n",
       "      <th>loan_id</th>\n",
       "      <th>rate</th>\n",
       "    </tr>\n",
       "  </thead>\n",
       "  <tbody>\n",
       "    <tr>\n",
       "      <th>count</th>\n",
       "      <td>443.000000</td>\n",
       "      <td>430.000000</td>\n",
       "      <td>443.000000</td>\n",
       "      <td>443.000000</td>\n",
       "      <td>443.000000</td>\n",
       "    </tr>\n",
       "    <tr>\n",
       "      <th>mean</th>\n",
       "      <td>38911.060948</td>\n",
       "      <td>7927.553488</td>\n",
       "      <td>0.534989</td>\n",
       "      <td>11017.101580</td>\n",
       "      <td>3.217156</td>\n",
       "    </tr>\n",
       "    <tr>\n",
       "      <th>std</th>\n",
       "      <td>7768.681063</td>\n",
       "      <td>4170.217861</td>\n",
       "      <td>0.499338</td>\n",
       "      <td>581.826222</td>\n",
       "      <td>2.397168</td>\n",
       "    </tr>\n",
       "    <tr>\n",
       "      <th>min</th>\n",
       "      <td>25707.000000</td>\n",
       "      <td>559.000000</td>\n",
       "      <td>0.000000</td>\n",
       "      <td>10009.000000</td>\n",
       "      <td>0.010000</td>\n",
       "    </tr>\n",
       "    <tr>\n",
       "      <th>25%</th>\n",
       "      <td>32885.000000</td>\n",
       "      <td>4147.500000</td>\n",
       "      <td>0.000000</td>\n",
       "      <td>10507.500000</td>\n",
       "      <td>1.220000</td>\n",
       "    </tr>\n",
       "    <tr>\n",
       "      <th>50%</th>\n",
       "      <td>39505.000000</td>\n",
       "      <td>8287.500000</td>\n",
       "      <td>1.000000</td>\n",
       "      <td>11033.000000</td>\n",
       "      <td>2.780000</td>\n",
       "    </tr>\n",
       "    <tr>\n",
       "      <th>75%</th>\n",
       "      <td>46109.000000</td>\n",
       "      <td>11648.500000</td>\n",
       "      <td>1.000000</td>\n",
       "      <td>11526.000000</td>\n",
       "      <td>4.750000</td>\n",
       "    </tr>\n",
       "    <tr>\n",
       "      <th>max</th>\n",
       "      <td>49624.000000</td>\n",
       "      <td>14971.000000</td>\n",
       "      <td>1.000000</td>\n",
       "      <td>11991.000000</td>\n",
       "      <td>12.620000</td>\n",
       "    </tr>\n",
       "  </tbody>\n",
       "</table>\n",
       "</div>"
      ],
      "text/plain": [
       "          client_id   loan_amount      repaid       loan_id        rate\n",
       "count    443.000000    430.000000  443.000000    443.000000  443.000000\n",
       "mean   38911.060948   7927.553488    0.534989  11017.101580    3.217156\n",
       "std     7768.681063   4170.217861    0.499338    581.826222    2.397168\n",
       "min    25707.000000    559.000000    0.000000  10009.000000    0.010000\n",
       "25%    32885.000000   4147.500000    0.000000  10507.500000    1.220000\n",
       "50%    39505.000000   8287.500000    1.000000  11033.000000    2.780000\n",
       "75%    46109.000000  11648.500000    1.000000  11526.000000    4.750000\n",
       "max    49624.000000  14971.000000    1.000000  11991.000000   12.620000"
      ]
     },
     "execution_count": 23,
     "metadata": {},
     "output_type": "execute_result"
    }
   ],
   "source": [
    "data.describe()"
   ]
  },
  {
   "cell_type": "code",
   "execution_count": 24,
   "id": "3cdcc8e4",
   "metadata": {},
   "outputs": [
    {
     "data": {
      "text/plain": [
       "client_id       0\n",
       "loan_type       0\n",
       "loan_amount    13\n",
       "repaid          0\n",
       "loan_id         0\n",
       "loan_start      0\n",
       "loan_end        0\n",
       "rate            0\n",
       "dtype: int64"
      ]
     },
     "execution_count": 24,
     "metadata": {},
     "output_type": "execute_result"
    }
   ],
   "source": [
    "data.isnull().sum()"
   ]
  },
  {
   "cell_type": "code",
   "execution_count": 27,
   "id": "1e74961c",
   "metadata": {},
   "outputs": [
    {
     "name": "stdout",
     "output_type": "stream",
     "text": [
      "<class 'pandas.core.frame.DataFrame'>\n",
      "RangeIndex: 443 entries, 0 to 442\n",
      "Data columns (total 8 columns):\n",
      " #   Column       Non-Null Count  Dtype  \n",
      "---  ------       --------------  -----  \n",
      " 0   client_id    443 non-null    int64  \n",
      " 1   loan_type    443 non-null    object \n",
      " 2   loan_amount  443 non-null    float64\n",
      " 3   repaid       443 non-null    int64  \n",
      " 4   loan_id      443 non-null    int64  \n",
      " 5   loan_start   443 non-null    object \n",
      " 6   loan_end     443 non-null    object \n",
      " 7   rate         443 non-null    float64\n",
      "dtypes: float64(2), int64(3), object(3)\n",
      "memory usage: 27.8+ KB\n"
     ]
    }
   ],
   "source": [
    "\n",
    "#data[\"loan_amount\"]\n",
    "\n",
    "from sklearn.impute import SimpleImputer\n",
    "imputer  = SimpleImputer(missing_values = np.nan, strategy = \"mean\")\n",
    "missing_data = data[\"loan_amount\"].values\n",
    "missing_data = missing_data.reshape(len(missing_data),1)\n",
    "imputer = imputer.fit(missing_data)\n",
    "data[\"loan_amount\"] = imputer.transform(missing_data)\n",
    "data.info()"
   ]
  },
  {
   "cell_type": "code",
   "execution_count": 125,
   "id": "5ad81fea",
   "metadata": {},
   "outputs": [
    {
     "data": {
      "image/png": "[encoded data removed]",
      "text/plain": [
       "<Figure size 432x288 with 1 Axes>"
      ]
     },
     "metadata": {
      "needs_background": "light"
     },
     "output_type": "display_data"
    }
   ],
   "source": [
    "# data with autliers\n",
    "\n",
    "#data[\"loan_amount\"].plot(kind = \"box\")\n",
    "data[\"rate\"].plot(kind = \"box\")\n",
    "data[\"out_rate\"] = data[\"rate\"]**0.5\n"
   ]
  },
  {
   "cell_type": "code",
   "execution_count": 126,
   "id": "e3ee44ab",
   "metadata": {},
   "outputs": [
    {
     "data": {
      "text/plain": [
       "<AxesSubplot:>"
      ]
     },
     "execution_count": 126,
     "metadata": {},
     "output_type": "execute_result"
    },
    {
     "data": {
      "image/png": "[encoded data removed]",
      "text/plain": [
       "<Figure size 432x288 with 1 Axes>"
      ]
     },
     "metadata": {
      "needs_background": "light"
     },
     "output_type": "display_data"
    }
   ],
   "source": [
    "data[\"out_rate\"].plot(kind = \"box\")"
   ]
  },
  {
   "cell_type": "code",
   "execution_count": 127,
   "id": "05b952f9",
   "metadata": {},
   "outputs": [
    {
     "data": {
      "text/plain": [
       "<AxesSubplot:>"
      ]
     },
     "execution_count": 127,
     "metadata": {},
     "output_type": "execute_result"
    },
    {
     "data": {
      "image/png": "[encoded data removed]",
      "text/plain": [
       "<Figure size 432x288 with 1 Axes>"
      ]
     },
     "metadata": {
      "needs_background": "light"
     },
     "output_type": "display_data"
    }
   ],
   "source": [
    "data['log_rate'] = np.log(data['rate'])\n",
    "data[\"out_rate\"].plot(kind = \"box\")"
   ]
  },
  {
   "cell_type": "code",
   "execution_count": 7,
   "id": "266421f5",
   "metadata": {},
   "outputs": [
    {
     "name": "stdout",
     "output_type": "stream",
     "text": [
      "<class 'pandas.core.frame.DataFrame'>\n",
      "RangeIndex: 443 entries, 0 to 442\n",
      "Data columns (total 8 columns):\n",
      " #   Column       Non-Null Count  Dtype   \n",
      "---  ------       --------------  -----   \n",
      " 0   client_id    443 non-null    int64   \n",
      " 1   loan_type    443 non-null    category\n",
      " 2   loan_amount  430 non-null    float64 \n",
      " 3   repaid       443 non-null    int64   \n",
      " 4   loan_id      443 non-null    int64   \n",
      " 5   loan_start   443 non-null    object  \n",
      " 6   loan_end     443 non-null    object  \n",
      " 7   rate         443 non-null    float64 \n",
      "dtypes: category(1), float64(2), int64(3), object(2)\n",
      "memory usage: 25.0+ KB\n"
     ]
    },
    {
     "data": {
      "text/plain": [
       "['home', 'credit', 'cash', 'other']\n",
       "Categories (4, object): ['home', 'credit', 'cash', 'other']"
      ]
     },
     "execution_count": 7,
     "metadata": {},
     "output_type": "execute_result"
    }
   ],
   "source": [
    "#Encoding the Categorical Features\n",
    "\n",
    "data['loan_type'] = data['loan_type'].astype('category')\n",
    "data.info()\n",
    "\n",
    "\n",
    "\n",
    "\n",
    "pd.unique(data['loan_type'])\n"
   ]
  },
  {
   "cell_type": "code",
   "execution_count": 5,
   "id": "a7006764",
   "metadata": {},
   "outputs": [
    {
     "data": {
      "text/plain": [
       "0      home\n",
       "1    credit\n",
       "2      home\n",
       "3      cash\n",
       "4    credit\n",
       "Name: loan_type, dtype: object"
      ]
     },
     "execution_count": 5,
     "metadata": {},
     "output_type": "execute_result"
    }
   ],
   "source": [
    "data.loan_type.head()"
   ]
  },
  {
   "cell_type": "code",
   "execution_count": 136,
   "id": "97416578",
   "metadata": {},
   "outputs": [
    {
     "data": {
      "text/html": [
       "<div>\n",
       "<style scoped>\n",
       "    .dataframe tbody tr th:only-of-type {\n",
       "        vertical-align: middle;\n",
       "    }\n",
       "\n",
       "    .dataframe tbody tr th {\n",
       "        vertical-align: top;\n",
       "    }\n",
       "\n",
       "    .dataframe thead th {\n",
       "        text-align: right;\n",
       "    }\n",
       "</style>\n",
       "<table border=\"1\" class=\"dataframe\">\n",
       "  <thead>\n",
       "    <tr style=\"text-align: right;\">\n",
       "      <th></th>\n",
       "      <th>client_id</th>\n",
       "      <th>loan_amount</th>\n",
       "      <th>repaid</th>\n",
       "      <th>loan_id</th>\n",
       "      <th>loan_start</th>\n",
       "      <th>loan_end</th>\n",
       "      <th>rate</th>\n",
       "      <th>out_rate</th>\n",
       "      <th>log_rate</th>\n",
       "      <th>cash</th>\n",
       "      <th>credit</th>\n",
       "      <th>home</th>\n",
       "      <th>other</th>\n",
       "    </tr>\n",
       "  </thead>\n",
       "  <tbody>\n",
       "    <tr>\n",
       "      <th>0</th>\n",
       "      <td>46109</td>\n",
       "      <td>13672.000000</td>\n",
       "      <td>0</td>\n",
       "      <td>10243</td>\n",
       "      <td>2002-04-16</td>\n",
       "      <td>2003-12-20</td>\n",
       "      <td>2.15</td>\n",
       "      <td>1.466288</td>\n",
       "      <td>0.765468</td>\n",
       "      <td>0</td>\n",
       "      <td>0</td>\n",
       "      <td>1</td>\n",
       "      <td>0</td>\n",
       "    </tr>\n",
       "    <tr>\n",
       "      <th>1</th>\n",
       "      <td>46109</td>\n",
       "      <td>9794.000000</td>\n",
       "      <td>0</td>\n",
       "      <td>10984</td>\n",
       "      <td>2003-10-21</td>\n",
       "      <td>2005-07-17</td>\n",
       "      <td>1.25</td>\n",
       "      <td>1.118034</td>\n",
       "      <td>0.223144</td>\n",
       "      <td>0</td>\n",
       "      <td>1</td>\n",
       "      <td>0</td>\n",
       "      <td>0</td>\n",
       "    </tr>\n",
       "    <tr>\n",
       "      <th>2</th>\n",
       "      <td>46109</td>\n",
       "      <td>12734.000000</td>\n",
       "      <td>1</td>\n",
       "      <td>10990</td>\n",
       "      <td>2006-02-01</td>\n",
       "      <td>2007-07-05</td>\n",
       "      <td>0.68</td>\n",
       "      <td>0.824621</td>\n",
       "      <td>-0.385662</td>\n",
       "      <td>0</td>\n",
       "      <td>0</td>\n",
       "      <td>1</td>\n",
       "      <td>0</td>\n",
       "    </tr>\n",
       "    <tr>\n",
       "      <th>3</th>\n",
       "      <td>46109</td>\n",
       "      <td>12518.000000</td>\n",
       "      <td>1</td>\n",
       "      <td>10596</td>\n",
       "      <td>2010-12-08</td>\n",
       "      <td>2013-05-05</td>\n",
       "      <td>1.24</td>\n",
       "      <td>1.113553</td>\n",
       "      <td>0.215111</td>\n",
       "      <td>1</td>\n",
       "      <td>0</td>\n",
       "      <td>0</td>\n",
       "      <td>0</td>\n",
       "    </tr>\n",
       "    <tr>\n",
       "      <th>4</th>\n",
       "      <td>46109</td>\n",
       "      <td>7927.553488</td>\n",
       "      <td>1</td>\n",
       "      <td>11415</td>\n",
       "      <td>2010-07-07</td>\n",
       "      <td>2012-05-21</td>\n",
       "      <td>3.13</td>\n",
       "      <td>1.769181</td>\n",
       "      <td>1.141033</td>\n",
       "      <td>0</td>\n",
       "      <td>1</td>\n",
       "      <td>0</td>\n",
       "      <td>0</td>\n",
       "    </tr>\n",
       "    <tr>\n",
       "      <th>...</th>\n",
       "      <td>...</td>\n",
       "      <td>...</td>\n",
       "      <td>...</td>\n",
       "      <td>...</td>\n",
       "      <td>...</td>\n",
       "      <td>...</td>\n",
       "      <td>...</td>\n",
       "      <td>...</td>\n",
       "      <td>...</td>\n",
       "      <td>...</td>\n",
       "      <td>...</td>\n",
       "      <td>...</td>\n",
       "      <td>...</td>\n",
       "    </tr>\n",
       "    <tr>\n",
       "      <th>438</th>\n",
       "      <td>26945</td>\n",
       "      <td>12963.000000</td>\n",
       "      <td>0</td>\n",
       "      <td>10330</td>\n",
       "      <td>2001-11-26</td>\n",
       "      <td>2004-06-11</td>\n",
       "      <td>2.46</td>\n",
       "      <td>1.568439</td>\n",
       "      <td>0.900161</td>\n",
       "      <td>0</td>\n",
       "      <td>0</td>\n",
       "      <td>0</td>\n",
       "      <td>1</td>\n",
       "    </tr>\n",
       "    <tr>\n",
       "      <th>439</th>\n",
       "      <td>26945</td>\n",
       "      <td>1728.000000</td>\n",
       "      <td>1</td>\n",
       "      <td>10248</td>\n",
       "      <td>2004-01-27</td>\n",
       "      <td>2005-06-21</td>\n",
       "      <td>5.27</td>\n",
       "      <td>2.295648</td>\n",
       "      <td>1.662030</td>\n",
       "      <td>0</td>\n",
       "      <td>1</td>\n",
       "      <td>0</td>\n",
       "      <td>0</td>\n",
       "    </tr>\n",
       "    <tr>\n",
       "      <th>440</th>\n",
       "      <td>26945</td>\n",
       "      <td>9329.000000</td>\n",
       "      <td>0</td>\n",
       "      <td>10154</td>\n",
       "      <td>2001-12-17</td>\n",
       "      <td>2004-07-22</td>\n",
       "      <td>5.65</td>\n",
       "      <td>2.376973</td>\n",
       "      <td>1.731656</td>\n",
       "      <td>0</td>\n",
       "      <td>0</td>\n",
       "      <td>0</td>\n",
       "      <td>1</td>\n",
       "    </tr>\n",
       "    <tr>\n",
       "      <th>441</th>\n",
       "      <td>26945</td>\n",
       "      <td>4197.000000</td>\n",
       "      <td>0</td>\n",
       "      <td>10333</td>\n",
       "      <td>2003-10-16</td>\n",
       "      <td>2005-07-10</td>\n",
       "      <td>4.50</td>\n",
       "      <td>2.121320</td>\n",
       "      <td>1.504077</td>\n",
       "      <td>0</td>\n",
       "      <td>0</td>\n",
       "      <td>1</td>\n",
       "      <td>0</td>\n",
       "    </tr>\n",
       "    <tr>\n",
       "      <th>442</th>\n",
       "      <td>26945</td>\n",
       "      <td>3643.000000</td>\n",
       "      <td>0</td>\n",
       "      <td>11434</td>\n",
       "      <td>2010-03-24</td>\n",
       "      <td>2011-12-22</td>\n",
       "      <td>0.13</td>\n",
       "      <td>0.360555</td>\n",
       "      <td>-2.040221</td>\n",
       "      <td>0</td>\n",
       "      <td>0</td>\n",
       "      <td>1</td>\n",
       "      <td>0</td>\n",
       "    </tr>\n",
       "  </tbody>\n",
       "</table>\n",
       "<p>443 rows × 13 columns</p>\n",
       "</div>"
      ],
      "text/plain": [
       "     client_id   loan_amount  repaid  loan_id  loan_start    loan_end  rate  \\\n",
       "0        46109  13672.000000       0    10243  2002-04-16  2003-12-20  2.15   \n",
       "1        46109   9794.000000       0    10984  2003-10-21  2005-07-17  1.25   \n",
       "2        46109  12734.000000       1    10990  2006-02-01  2007-07-05  0.68   \n",
       "3        46109  12518.000000       1    10596  2010-12-08  2013-05-05  1.24   \n",
       "4        46109   7927.553488       1    11415  2010-07-07  2012-05-21  3.13   \n",
       "..         ...           ...     ...      ...         ...         ...   ...   \n",
       "438      26945  12963.000000       0    10330  2001-11-26  2004-06-11  2.46   \n",
       "439      26945   1728.000000       1    10248  2004-01-27  2005-06-21  5.27   \n",
       "440      26945   9329.000000       0    10154  2001-12-17  2004-07-22  5.65   \n",
       "441      26945   4197.000000       0    10333  2003-10-16  2005-07-10  4.50   \n",
       "442      26945   3643.000000       0    11434  2010-03-24  2011-12-22  0.13   \n",
       "\n",
       "     out_rate  log_rate  cash  credit  home  other  \n",
       "0    1.466288  0.765468     0       0     1      0  \n",
       "1    1.118034  0.223144     0       1     0      0  \n",
       "2    0.824621 -0.385662     0       0     1      0  \n",
       "3    1.113553  0.215111     1       0     0      0  \n",
       "4    1.769181  1.141033     0       1     0      0  \n",
       "..        ...       ...   ...     ...   ...    ...  \n",
       "438  1.568439  0.900161     0       0     0      1  \n",
       "439  2.295648  1.662030     0       1     0      0  \n",
       "440  2.376973  1.731656     0       0     0      1  \n",
       "441  2.121320  1.504077     0       0     1      0  \n",
       "442  0.360555 -2.040221     0       0     1      0  \n",
       "\n",
       "[443 rows x 13 columns]"
      ]
     },
     "execution_count": 136,
     "metadata": {},
     "output_type": "execute_result"
    }
   ],
   "source": [
    "data_dummy = pd.get_dummies(data[\"loan_type\"])\n",
    "data1 = pd.concat([data,data_dummy],axis = 1)\n",
    "data1 = data1.drop([\"loan_type\"],axis = 1)\n",
    "data1"
   ]
  },
  {
   "cell_type": "code",
   "execution_count": null,
   "id": "f70bbba3",
   "metadata": {},
   "outputs": [],
   "source": []
  },
  {
   "cell_type": "code",
   "execution_count": null,
   "id": "49f02430",
   "metadata": {},
   "outputs": [],
   "source": []
  }
 ],
 "metadata": {
  "kernelspec": {
   "display_name": "Python 3",
   "language": "python",
   "name": "python3"
  },
  "language_info": {
   "codemirror_mode": {
    "name": "ipython",
    "version": 3
   },
   "file_extension": ".py",
   "mimetype": "text/x-python",
   "name": "python",
   "nbconvert_exporter": "python",
   "pygments_lexer": "ipython3",
   "version": "3.8.8"
  }
 },
 "nbformat": 4,
 "nbformat_minor": 5
}
