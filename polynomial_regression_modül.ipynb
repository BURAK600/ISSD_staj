{
 "cells": [
  {
   "cell_type": "markdown",
   "id": "8b8492b7",
   "metadata": {},
   "source": [
    "# Pandas ve Numpy kütüphanelerini kullanarak Polynomial Regresyon modeli oluşturma"
   ]
  },
  {
   "cell_type": "code",
   "execution_count": 38,
   "id": "a759e5f4",
   "metadata": {},
   "outputs": [],
   "source": [
    "import numpy as np\n",
    "import pandas as pd\n",
    "import matplotlib.pyplot as plt"
   ]
  },
  {
   "cell_type": "code",
   "execution_count": 39,
   "id": "888e7d9f",
   "metadata": {},
   "outputs": [
    {
     "data": {
      "text/html": [
       "<div>\n",
       "<style scoped>\n",
       "    .dataframe tbody tr th:only-of-type {\n",
       "        vertical-align: middle;\n",
       "    }\n",
       "\n",
       "    .dataframe tbody tr th {\n",
       "        vertical-align: top;\n",
       "    }\n",
       "\n",
       "    .dataframe thead th {\n",
       "        text-align: right;\n",
       "    }\n",
       "</style>\n",
       "<table border=\"1\" class=\"dataframe\">\n",
       "  <thead>\n",
       "    <tr style=\"text-align: right;\">\n",
       "      <th></th>\n",
       "      <th>No</th>\n",
       "      <th>X1 transaction date</th>\n",
       "      <th>X2 house age</th>\n",
       "      <th>X3 distance to the nearest MRT station</th>\n",
       "      <th>X4 number of convenience stores</th>\n",
       "      <th>X5 latitude</th>\n",
       "      <th>X6 longitude</th>\n",
       "      <th>Y house price of unit area</th>\n",
       "    </tr>\n",
       "  </thead>\n",
       "  <tbody>\n",
       "    <tr>\n",
       "      <th>0</th>\n",
       "      <td>1</td>\n",
       "      <td>2012.917</td>\n",
       "      <td>32.0</td>\n",
       "      <td>84.87882</td>\n",
       "      <td>10</td>\n",
       "      <td>24.98298</td>\n",
       "      <td>121.54024</td>\n",
       "      <td>37.9</td>\n",
       "    </tr>\n",
       "    <tr>\n",
       "      <th>1</th>\n",
       "      <td>2</td>\n",
       "      <td>2012.917</td>\n",
       "      <td>19.5</td>\n",
       "      <td>306.59470</td>\n",
       "      <td>9</td>\n",
       "      <td>24.98034</td>\n",
       "      <td>121.53951</td>\n",
       "      <td>42.2</td>\n",
       "    </tr>\n",
       "    <tr>\n",
       "      <th>2</th>\n",
       "      <td>3</td>\n",
       "      <td>2013.583</td>\n",
       "      <td>13.3</td>\n",
       "      <td>561.98450</td>\n",
       "      <td>5</td>\n",
       "      <td>24.98746</td>\n",
       "      <td>121.54391</td>\n",
       "      <td>47.3</td>\n",
       "    </tr>\n",
       "    <tr>\n",
       "      <th>3</th>\n",
       "      <td>4</td>\n",
       "      <td>2013.500</td>\n",
       "      <td>13.3</td>\n",
       "      <td>561.98450</td>\n",
       "      <td>5</td>\n",
       "      <td>24.98746</td>\n",
       "      <td>121.54391</td>\n",
       "      <td>54.8</td>\n",
       "    </tr>\n",
       "    <tr>\n",
       "      <th>4</th>\n",
       "      <td>5</td>\n",
       "      <td>2012.833</td>\n",
       "      <td>5.0</td>\n",
       "      <td>390.56840</td>\n",
       "      <td>5</td>\n",
       "      <td>24.97937</td>\n",
       "      <td>121.54245</td>\n",
       "      <td>43.1</td>\n",
       "    </tr>\n",
       "  </tbody>\n",
       "</table>\n",
       "</div>"
      ],
      "text/plain": [
       "   No  X1 transaction date  X2 house age  \\\n",
       "0   1             2012.917          32.0   \n",
       "1   2             2012.917          19.5   \n",
       "2   3             2013.583          13.3   \n",
       "3   4             2013.500          13.3   \n",
       "4   5             2012.833           5.0   \n",
       "\n",
       "   X3 distance to the nearest MRT station  X4 number of convenience stores  \\\n",
       "0                                84.87882                               10   \n",
       "1                               306.59470                                9   \n",
       "2                               561.98450                                5   \n",
       "3                               561.98450                                5   \n",
       "4                               390.56840                                5   \n",
       "\n",
       "   X5 latitude  X6 longitude  Y house price of unit area  \n",
       "0     24.98298     121.54024                        37.9  \n",
       "1     24.98034     121.53951                        42.2  \n",
       "2     24.98746     121.54391                        47.3  \n",
       "3     24.98746     121.54391                        54.8  \n",
       "4     24.97937     121.54245                        43.1  "
      ]
     },
     "execution_count": 39,
     "metadata": {},
     "output_type": "execute_result"
    }
   ],
   "source": [
    "data = pd.read_csv(\"real_estate.csv\")\n",
    "data.head()"
   ]
  },
  {
   "cell_type": "code",
   "execution_count": 40,
   "id": "fbf22f3b",
   "metadata": {},
   "outputs": [],
   "source": [
    "X = data.iloc[:,3]\n",
    "Y= data.iloc[:,-1]"
   ]
  },
  {
   "cell_type": "code",
   "execution_count": 41,
   "id": "371e9dda",
   "metadata": {},
   "outputs": [],
   "source": [
    "def featureNormalization(X):\n",
    "    \n",
    "    mean=np.mean(X,axis=0)\n",
    "    std=np.std(X,axis=0)\n",
    "    X_scale = (X - mean)/std\n",
    "    return X_scale\n",
    "X = featureNormalization(X)\n",
    "Y = featureNormalization(Y)"
   ]
  },
  {
   "cell_type": "code",
   "execution_count": 42,
   "id": "da4e645f",
   "metadata": {},
   "outputs": [],
   "source": [
    "from sklearn.model_selection import train_test_split\n",
    "\n",
    "\n",
    "x_train, x_test,y_train,y_test = train_test_split(X,Y,test_size=0.33, random_state=0)\n",
    "\n",
    "x_train = x_train.sort_index().values\n",
    "y_train = y_train.sort_index().values\n",
    "x_test = x_test.sort_index().values\n",
    "y_test = y_test.sort_index().values\n",
    "x_train = x_train.reshape(len(x_train),1)\n",
    "x_test = x_test.reshape(len(x_test),1)\n",
    "y_train = y_train.reshape(len(y_train),1)\n",
    "y_test = y_test.reshape(len(y_test),1)"
   ]
  },
  {
   "cell_type": "code",
   "execution_count": 43,
   "id": "f77ca609",
   "metadata": {},
   "outputs": [],
   "source": [
    "from sklearn.preprocessing import PolynomialFeatures\n",
    "\n",
    "poly = PolynomialFeatures(degree =3)\n",
    "\n",
    "x_train1 = poly.fit_transform(x_train)\n",
    "x_test1 = poly.fit_transform(x_test)\n",
    "x_test1 = poly.fit_transform(x_test)\n",
    "y_test1 = poly.fit_transform(y_test)\n",
    "Y"
   ]
  },
  {
   "cell_type": "code",
   "execution_count": 44,
   "id": "c673407c",
   "metadata": {},
   "outputs": [],
   "source": [
    "n = x_train1.shape[1]\n",
    "m=len(y_train)\n",
    "k = len(x_test)\n",
    "\n",
    "\n",
    "\n",
    "X_train = np.append(np.ones((m,1)),x_train1,axis=1)\n",
    "\n",
    "x_test = np.append(np.ones((k,1)),x_test1,axis=1)\n",
    "y_test = y_test.reshape(k,1)\n",
    "\n",
    "Y_train = y_train.reshape(m,1)\n",
    "\n",
    "\n",
    "theta=np.zeros((n+1,1))\n"
   ]
  },
  {
   "cell_type": "code",
   "execution_count": 45,
   "id": "87f736c6",
   "metadata": {},
   "outputs": [
    {
     "data": {
      "text/plain": [
       "0.5208051580271215"
      ]
     },
     "execution_count": 45,
     "metadata": {},
     "output_type": "execute_result"
    }
   ],
   "source": [
    "def computeCost(x_train,y_train,theta): \n",
    "    \n",
    "    m=len(y_train)\n",
    "    \n",
    "    hypothesis = x_train.dot(theta)  \n",
    "    \n",
    "    square_err = (hypothesis - y_train)**2\n",
    "    \n",
    "    return 1/(2*m)*np.sum(square_err)\n",
    "\n",
    "\n",
    "computeCost(X_train,Y_train,theta)\n"
   ]
  },
  {
   "cell_type": "code",
   "execution_count": 46,
   "id": "99bb845a",
   "metadata": {},
   "outputs": [],
   "source": [
    "def gradientDescent(x_train,y_train,theta,alpha,num_iters):\n",
    "\n",
    "    m=len(y_train)\n",
    "    \n",
    "    J=[]\n",
    "    \n",
    "    for i in range(num_iters):\n",
    "        hypothesis = x_train.dot(theta)\n",
    "        error = np.dot(x_train.transpose(),(hypothesis - y_train))\n",
    "        descent = alpha * 1/m * error\n",
    "        \n",
    "        theta  -= descent\n",
    "        \n",
    "        J.append(computeCost(x_train,y_train,theta))\n",
    "    \n",
    "    return theta, J\n",
    "\n",
    "\n",
    "\n",
    "theta,J = gradientDescent(X_train,Y_train,theta,0.01,2000)"
   ]
  },
  {
   "cell_type": "code",
   "execution_count": 47,
   "id": "91427e79",
   "metadata": {},
   "outputs": [
    {
     "data": {
      "text/plain": [
       "Text(0.5, 1.0, 'Cost function using Gradient Descent')"
      ]
     },
     "execution_count": 47,
     "metadata": {},
     "output_type": "execute_result"
    },
    {
     "data": {
      "image/png": "[encoded data removed]",
      "text/plain": [
       "<Figure size 432x288 with 1 Axes>"
      ]
     },
     "metadata": {
      "needs_background": "light"
     },
     "output_type": "display_data"
    }
   ],
   "source": [
    "\n",
    "plt.plot(J)\n",
    "plt.xlabel(\"Iteration\")\n",
    "plt.ylabel(\"Cost function\")\n",
    "plt.title(\"Cost function using Gradient Descent\")"
   ]
  },
  {
   "cell_type": "code",
   "execution_count": 48,
   "id": "ca720757",
   "metadata": {},
   "outputs": [],
   "source": [
    "def predict(x_test,theta):\n",
    "    \n",
    "    y_pred = np.dot(x_test,theta)\n",
    "    \n",
    "    return y_pred"
   ]
  },
  {
   "cell_type": "code",
   "execution_count": 49,
   "id": "b68a21fe",
   "metadata": {},
   "outputs": [
    {
     "data": {
      "text/plain": [
       "(137, 1)"
      ]
     },
     "execution_count": 49,
     "metadata": {},
     "output_type": "execute_result"
    }
   ],
   "source": [
    "y_pred =predict(x_test,theta)\n",
    "y_pred.shape"
   ]
  },
  {
   "cell_type": "code",
   "execution_count": 50,
   "id": "f0ee2bfa",
   "metadata": {},
   "outputs": [],
   "source": [
    "y_test1 = y_test.reshape(len(y_test),1)"
   ]
  },
  {
   "cell_type": "code",
   "execution_count": 51,
   "id": "ac4b8672",
   "metadata": {},
   "outputs": [],
   "source": [
    "def r2değeri(y_test1,y_pred):\n",
    "    hkt = (y_test1- y_pred)**2\n",
    "    oft = (y_test1 - np.mean(y_test1))**2\n",
    "    r2 = 1-(np.sum(hkt)/np.sum(oft))\n",
    "    return r2"
   ]
  },
  {
   "cell_type": "code",
   "execution_count": 52,
   "id": "9d9911dd",
   "metadata": {},
   "outputs": [
    {
     "name": "stdout",
     "output_type": "stream",
     "text": [
      "r2 değeri: 0.574569\n"
     ]
    }
   ],
   "source": [
    "print(\"r2 değeri: \"+ str(round(r2değeri(y_test1,y_pred),6)))"
   ]
  },
  {
   "cell_type": "code",
   "execution_count": 53,
   "id": "181614a0",
   "metadata": {},
   "outputs": [
    {
     "name": "stdout",
     "output_type": "stream",
     "text": [
      "Mean Squared Error değeri: 0.38869\n"
     ]
    }
   ],
   "source": [
    "def mSE(y_pred, y_test):\n",
    "    \n",
    "    return np.sum((y_pred- y_test)**2) / len(y_pred)\n",
    "\n",
    "\n",
    "\n",
    "print(\"Mean Squared Error değeri: \"+ str(round(mSE(y_pred, y_test1),5)))"
   ]
  },
  {
   "cell_type": "code",
   "execution_count": null,
   "id": "e833ed18",
   "metadata": {},
   "outputs": [],
   "source": []
  },
  {
   "cell_type": "markdown",
   "id": "b9fcdb30",
   "metadata": {},
   "source": [
    "# Scikit-learn kütüphanelerini kullanarak Polynomial Regresyon modeli oluşturma"
   ]
  },
  {
   "cell_type": "code",
   "execution_count": 54,
   "id": "6cc0525f",
   "metadata": {},
   "outputs": [],
   "source": [
    "data1 = pd.read_csv(\"real_estate.csv\")"
   ]
  },
  {
   "cell_type": "code",
   "execution_count": 55,
   "id": "4b2672b9",
   "metadata": {},
   "outputs": [],
   "source": [
    "X1 = data1.iloc[:,3]\n",
    "Y1 = data1.iloc[:,-1]\n"
   ]
  },
  {
   "cell_type": "code",
   "execution_count": 56,
   "id": "f13f05df",
   "metadata": {},
   "outputs": [
    {
     "data": {
      "text/plain": [
       "(277, 1)"
      ]
     },
     "execution_count": 56,
     "metadata": {},
     "output_type": "execute_result"
    }
   ],
   "source": [
    "from sklearn.model_selection import train_test_split\n",
    "\n",
    "\n",
    "x_train, x_test,y_train,y_test = train_test_split(X1,Y1,test_size=0.33, random_state=0)\n",
    "\n",
    "x_train = x_train.sort_index().values\n",
    "\n",
    "y_train = y_train.sort_index().values\n",
    "\n",
    "x_test = x_test.sort_index().values\n",
    "\n",
    "y_test = y_test.sort_index().values\n",
    "\n",
    "\n",
    "\n",
    "x_train = x_train.reshape(len(x_train),1)\n",
    "x_test = x_test.reshape(len(x_test),1)\n",
    "y_train = y_train.reshape(len(y_train),1)\n",
    "y_test = y_test.reshape(len(y_test),1)\n",
    "\n",
    "\n",
    "\n",
    "x_train.shape"
   ]
  },
  {
   "cell_type": "code",
   "execution_count": 57,
   "id": "e4138358",
   "metadata": {},
   "outputs": [],
   "source": [
    "from sklearn.preprocessing import StandardScaler \n",
    "sc = StandardScaler()\n",
    "\n",
    "X1 = sc.fit_transform(x_train)\n",
    "Y1 = sc.fit_transform(Y_train)\n",
    "x_test1 = sc.fit_transform(x_test)\n",
    "y_test1 = sc.fit_transform(y_test)\n",
    "\n"
   ]
  },
  {
   "cell_type": "code",
   "execution_count": 58,
   "id": "feffd350",
   "metadata": {},
   "outputs": [],
   "source": [
    "from sklearn.preprocessing import PolynomialFeatures\n",
    "\n",
    "poly = PolynomialFeatures(degree =3)\n",
    "\n",
    "x_poly = poly.fit_transform(X1)\n",
    "\n",
    "\n",
    "x_poly_test = poly.fit_transform(x_test1)\n",
    "\n"
   ]
  },
  {
   "cell_type": "code",
   "execution_count": 59,
   "id": "8d99855a",
   "metadata": {},
   "outputs": [
    {
     "data": {
      "text/plain": [
       "(137, 1)"
      ]
     },
     "execution_count": 59,
     "metadata": {},
     "output_type": "execute_result"
    }
   ],
   "source": [
    "from sklearn.linear_model import LinearRegression\n",
    "lr = LinearRegression()\n",
    "\n",
    "lr.fit(x_poly,Y1)\n",
    "\n",
    "y_pred1 = lr.predict(x_poly_test)\n",
    "y_pred1.shape\n"
   ]
  },
  {
   "cell_type": "code",
   "execution_count": null,
   "id": "62c29137",
   "metadata": {},
   "outputs": [],
   "source": []
  },
  {
   "cell_type": "code",
   "execution_count": 61,
   "id": "dd075dd6",
   "metadata": {},
   "outputs": [
    {
     "name": "stdout",
     "output_type": "stream",
     "text": [
      "R-squared:  0.5830283062331858\n"
     ]
    }
   ],
   "source": [
    "from sklearn.metrics import r2_score\n",
    "\n",
    "print(\"R-squared: \", r2_score(y_test1, y_pred1))"
   ]
  },
  {
   "cell_type": "code",
   "execution_count": 62,
   "id": "37f66db8",
   "metadata": {},
   "outputs": [
    {
     "name": "stdout",
     "output_type": "stream",
     "text": [
      "Mean Squared Error değeri: 0.41697\n"
     ]
    }
   ],
   "source": [
    "def mSE(y_pred, y_test):\n",
    "    \n",
    "    return np.sum((y_pred- y_test)**2) / len(y_pred)\n",
    "\n",
    "\n",
    "mSE(y_pred1, y_test1)\n",
    "\n",
    "print(\"Mean Squared Error değeri: \"+ str(round(mSE(y_pred1, y_test1),5)))"
   ]
  },
  {
   "cell_type": "code",
   "execution_count": null,
   "id": "64820444",
   "metadata": {},
   "outputs": [],
   "source": []
  }
 ],
 "metadata": {
  "kernelspec": {
   "display_name": "Python 3",
   "language": "python",
   "name": "python3"
  },
  "language_info": {
   "codemirror_mode": {
    "name": "ipython",
    "version": 3
   },
   "file_extension": ".py",
   "mimetype": "text/x-python",
   "name": "python",
   "nbconvert_exporter": "python",
   "pygments_lexer": "ipython3",
   "version": "3.8.8"
  }
 },
 "nbformat": 4,
 "nbformat_minor": 5
}
