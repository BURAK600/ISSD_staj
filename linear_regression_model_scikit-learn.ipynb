{
 "cells": [
  {
   "cell_type": "markdown",
   "id": "a6945048",
   "metadata": {},
   "source": [
    "# Scikit-Learn kütüphanesi ile Doğrusal Regresyon modeli\n"
   ]
  },
  {
   "cell_type": "code",
   "execution_count": 26,
   "id": "b2161a9b",
   "metadata": {},
   "outputs": [],
   "source": [
    "import numpy as np\n",
    "import pandas as pd\n",
    "import matplotlib.pyplot as plt"
   ]
  },
  {
   "cell_type": "code",
   "execution_count": 27,
   "id": "fbf72fc6",
   "metadata": {},
   "outputs": [
    {
     "data": {
      "text/html": [
       "<div>\n",
       "<style scoped>\n",
       "    .dataframe tbody tr th:only-of-type {\n",
       "        vertical-align: middle;\n",
       "    }\n",
       "\n",
       "    .dataframe tbody tr th {\n",
       "        vertical-align: top;\n",
       "    }\n",
       "\n",
       "    .dataframe thead th {\n",
       "        text-align: right;\n",
       "    }\n",
       "</style>\n",
       "<table border=\"1\" class=\"dataframe\">\n",
       "  <thead>\n",
       "    <tr style=\"text-align: right;\">\n",
       "      <th></th>\n",
       "      <th>No</th>\n",
       "      <th>X1 transaction date</th>\n",
       "      <th>X2 house age</th>\n",
       "      <th>X3 distance to the nearest MRT station</th>\n",
       "      <th>X4 number of convenience stores</th>\n",
       "      <th>X5 latitude</th>\n",
       "      <th>X6 longitude</th>\n",
       "      <th>Y house price of unit area</th>\n",
       "    </tr>\n",
       "  </thead>\n",
       "  <tbody>\n",
       "    <tr>\n",
       "      <th>0</th>\n",
       "      <td>1</td>\n",
       "      <td>2012.917</td>\n",
       "      <td>32.0</td>\n",
       "      <td>84.87882</td>\n",
       "      <td>10</td>\n",
       "      <td>24.98298</td>\n",
       "      <td>121.54024</td>\n",
       "      <td>37.9</td>\n",
       "    </tr>\n",
       "    <tr>\n",
       "      <th>1</th>\n",
       "      <td>2</td>\n",
       "      <td>2012.917</td>\n",
       "      <td>19.5</td>\n",
       "      <td>306.59470</td>\n",
       "      <td>9</td>\n",
       "      <td>24.98034</td>\n",
       "      <td>121.53951</td>\n",
       "      <td>42.2</td>\n",
       "    </tr>\n",
       "    <tr>\n",
       "      <th>2</th>\n",
       "      <td>3</td>\n",
       "      <td>2013.583</td>\n",
       "      <td>13.3</td>\n",
       "      <td>561.98450</td>\n",
       "      <td>5</td>\n",
       "      <td>24.98746</td>\n",
       "      <td>121.54391</td>\n",
       "      <td>47.3</td>\n",
       "    </tr>\n",
       "    <tr>\n",
       "      <th>3</th>\n",
       "      <td>4</td>\n",
       "      <td>2013.500</td>\n",
       "      <td>13.3</td>\n",
       "      <td>561.98450</td>\n",
       "      <td>5</td>\n",
       "      <td>24.98746</td>\n",
       "      <td>121.54391</td>\n",
       "      <td>54.8</td>\n",
       "    </tr>\n",
       "    <tr>\n",
       "      <th>4</th>\n",
       "      <td>5</td>\n",
       "      <td>2012.833</td>\n",
       "      <td>5.0</td>\n",
       "      <td>390.56840</td>\n",
       "      <td>5</td>\n",
       "      <td>24.97937</td>\n",
       "      <td>121.54245</td>\n",
       "      <td>43.1</td>\n",
       "    </tr>\n",
       "  </tbody>\n",
       "</table>\n",
       "</div>"
      ],
      "text/plain": [
       "   No  X1 transaction date  X2 house age  \\\n",
       "0   1             2012.917          32.0   \n",
       "1   2             2012.917          19.5   \n",
       "2   3             2013.583          13.3   \n",
       "3   4             2013.500          13.3   \n",
       "4   5             2012.833           5.0   \n",
       "\n",
       "   X3 distance to the nearest MRT station  X4 number of convenience stores  \\\n",
       "0                                84.87882                               10   \n",
       "1                               306.59470                                9   \n",
       "2                               561.98450                                5   \n",
       "3                               561.98450                                5   \n",
       "4                               390.56840                                5   \n",
       "\n",
       "   X5 latitude  X6 longitude  Y house price of unit area  \n",
       "0     24.98298     121.54024                        37.9  \n",
       "1     24.98034     121.53951                        42.2  \n",
       "2     24.98746     121.54391                        47.3  \n",
       "3     24.98746     121.54391                        54.8  \n",
       "4     24.97937     121.54245                        43.1  "
      ]
     },
     "execution_count": 27,
     "metadata": {},
     "output_type": "execute_result"
    }
   ],
   "source": [
    "data1 = pd.read_csv(r\"real_estate_data.csv\")\n",
    "data1.head()"
   ]
  },
  {
   "cell_type": "code",
   "execution_count": 28,
   "id": "b88227c7",
   "metadata": {},
   "outputs": [
    {
     "data": {
      "text/html": [
       "<div>\n",
       "<style scoped>\n",
       "    .dataframe tbody tr th:only-of-type {\n",
       "        vertical-align: middle;\n",
       "    }\n",
       "\n",
       "    .dataframe tbody tr th {\n",
       "        vertical-align: top;\n",
       "    }\n",
       "\n",
       "    .dataframe thead th {\n",
       "        text-align: right;\n",
       "    }\n",
       "</style>\n",
       "<table border=\"1\" class=\"dataframe\">\n",
       "  <thead>\n",
       "    <tr style=\"text-align: right;\">\n",
       "      <th></th>\n",
       "      <th>No</th>\n",
       "      <th>X1 transaction date</th>\n",
       "      <th>X2 house age</th>\n",
       "      <th>X3 distance to the nearest MRT station</th>\n",
       "      <th>X4 number of convenience stores</th>\n",
       "      <th>X5 latitude</th>\n",
       "      <th>X6 longitude</th>\n",
       "      <th>Y house price of unit area</th>\n",
       "    </tr>\n",
       "  </thead>\n",
       "  <tbody>\n",
       "    <tr>\n",
       "      <th>No</th>\n",
       "      <td>1.000000</td>\n",
       "      <td>-0.048658</td>\n",
       "      <td>-0.032808</td>\n",
       "      <td>-0.013573</td>\n",
       "      <td>-0.012699</td>\n",
       "      <td>-0.010110</td>\n",
       "      <td>-0.011059</td>\n",
       "      <td>-0.028587</td>\n",
       "    </tr>\n",
       "    <tr>\n",
       "      <th>X1 transaction date</th>\n",
       "      <td>-0.048658</td>\n",
       "      <td>1.000000</td>\n",
       "      <td>0.017549</td>\n",
       "      <td>0.060880</td>\n",
       "      <td>0.009635</td>\n",
       "      <td>0.035058</td>\n",
       "      <td>-0.041082</td>\n",
       "      <td>0.087491</td>\n",
       "    </tr>\n",
       "    <tr>\n",
       "      <th>X2 house age</th>\n",
       "      <td>-0.032808</td>\n",
       "      <td>0.017549</td>\n",
       "      <td>1.000000</td>\n",
       "      <td>0.025622</td>\n",
       "      <td>0.049593</td>\n",
       "      <td>0.054420</td>\n",
       "      <td>-0.048520</td>\n",
       "      <td>-0.210567</td>\n",
       "    </tr>\n",
       "    <tr>\n",
       "      <th>X3 distance to the nearest MRT station</th>\n",
       "      <td>-0.013573</td>\n",
       "      <td>0.060880</td>\n",
       "      <td>0.025622</td>\n",
       "      <td>1.000000</td>\n",
       "      <td>-0.602519</td>\n",
       "      <td>-0.591067</td>\n",
       "      <td>-0.806317</td>\n",
       "      <td>-0.673613</td>\n",
       "    </tr>\n",
       "    <tr>\n",
       "      <th>X4 number of convenience stores</th>\n",
       "      <td>-0.012699</td>\n",
       "      <td>0.009635</td>\n",
       "      <td>0.049593</td>\n",
       "      <td>-0.602519</td>\n",
       "      <td>1.000000</td>\n",
       "      <td>0.444143</td>\n",
       "      <td>0.449099</td>\n",
       "      <td>0.571005</td>\n",
       "    </tr>\n",
       "    <tr>\n",
       "      <th>X5 latitude</th>\n",
       "      <td>-0.010110</td>\n",
       "      <td>0.035058</td>\n",
       "      <td>0.054420</td>\n",
       "      <td>-0.591067</td>\n",
       "      <td>0.444143</td>\n",
       "      <td>1.000000</td>\n",
       "      <td>0.412924</td>\n",
       "      <td>0.546307</td>\n",
       "    </tr>\n",
       "    <tr>\n",
       "      <th>X6 longitude</th>\n",
       "      <td>-0.011059</td>\n",
       "      <td>-0.041082</td>\n",
       "      <td>-0.048520</td>\n",
       "      <td>-0.806317</td>\n",
       "      <td>0.449099</td>\n",
       "      <td>0.412924</td>\n",
       "      <td>1.000000</td>\n",
       "      <td>0.523287</td>\n",
       "    </tr>\n",
       "    <tr>\n",
       "      <th>Y house price of unit area</th>\n",
       "      <td>-0.028587</td>\n",
       "      <td>0.087491</td>\n",
       "      <td>-0.210567</td>\n",
       "      <td>-0.673613</td>\n",
       "      <td>0.571005</td>\n",
       "      <td>0.546307</td>\n",
       "      <td>0.523287</td>\n",
       "      <td>1.000000</td>\n",
       "    </tr>\n",
       "  </tbody>\n",
       "</table>\n",
       "</div>"
      ],
      "text/plain": [
       "                                              No  X1 transaction date  \\\n",
       "No                                      1.000000            -0.048658   \n",
       "X1 transaction date                    -0.048658             1.000000   \n",
       "X2 house age                           -0.032808             0.017549   \n",
       "X3 distance to the nearest MRT station -0.013573             0.060880   \n",
       "X4 number of convenience stores        -0.012699             0.009635   \n",
       "X5 latitude                            -0.010110             0.035058   \n",
       "X6 longitude                           -0.011059            -0.041082   \n",
       "Y house price of unit area             -0.028587             0.087491   \n",
       "\n",
       "                                        X2 house age  \\\n",
       "No                                         -0.032808   \n",
       "X1 transaction date                         0.017549   \n",
       "X2 house age                                1.000000   \n",
       "X3 distance to the nearest MRT station      0.025622   \n",
       "X4 number of convenience stores             0.049593   \n",
       "X5 latitude                                 0.054420   \n",
       "X6 longitude                               -0.048520   \n",
       "Y house price of unit area                 -0.210567   \n",
       "\n",
       "                                        X3 distance to the nearest MRT station  \\\n",
       "No                                                                   -0.013573   \n",
       "X1 transaction date                                                   0.060880   \n",
       "X2 house age                                                          0.025622   \n",
       "X3 distance to the nearest MRT station                                1.000000   \n",
       "X4 number of convenience stores                                      -0.602519   \n",
       "X5 latitude                                                          -0.591067   \n",
       "X6 longitude                                                         -0.806317   \n",
       "Y house price of unit area                                           -0.673613   \n",
       "\n",
       "                                        X4 number of convenience stores  \\\n",
       "No                                                            -0.012699   \n",
       "X1 transaction date                                            0.009635   \n",
       "X2 house age                                                   0.049593   \n",
       "X3 distance to the nearest MRT station                        -0.602519   \n",
       "X4 number of convenience stores                                1.000000   \n",
       "X5 latitude                                                    0.444143   \n",
       "X6 longitude                                                   0.449099   \n",
       "Y house price of unit area                                     0.571005   \n",
       "\n",
       "                                        X5 latitude  X6 longitude  \\\n",
       "No                                        -0.010110     -0.011059   \n",
       "X1 transaction date                        0.035058     -0.041082   \n",
       "X2 house age                               0.054420     -0.048520   \n",
       "X3 distance to the nearest MRT station    -0.591067     -0.806317   \n",
       "X4 number of convenience stores            0.444143      0.449099   \n",
       "X5 latitude                                1.000000      0.412924   \n",
       "X6 longitude                               0.412924      1.000000   \n",
       "Y house price of unit area                 0.546307      0.523287   \n",
       "\n",
       "                                        Y house price of unit area  \n",
       "No                                                       -0.028587  \n",
       "X1 transaction date                                       0.087491  \n",
       "X2 house age                                             -0.210567  \n",
       "X3 distance to the nearest MRT station                   -0.673613  \n",
       "X4 number of convenience stores                           0.571005  \n",
       "X5 latitude                                               0.546307  \n",
       "X6 longitude                                              0.523287  \n",
       "Y house price of unit area                                1.000000  "
      ]
     },
     "execution_count": 28,
     "metadata": {},
     "output_type": "execute_result"
    }
   ],
   "source": [
    "data1.corr()"
   ]
  },
  {
   "cell_type": "code",
   "execution_count": 29,
   "id": "11b7b4e7",
   "metadata": {},
   "outputs": [],
   "source": [
    "X1 = data1[[\"X3 distance to the nearest MRT station\"]]\n",
    "y1 = data1[[\"Y house price of unit area\"]]\n"
   ]
  },
  {
   "cell_type": "code",
   "execution_count": 30,
   "id": "0ec634d3",
   "metadata": {},
   "outputs": [],
   "source": [
    "from sklearn.model_selection import train_test_split\n",
    "\n",
    "x_train1, x_test1,y_train1,y_test1 = train_test_split(X1,y1,test_size=0.33, random_state=0)\n",
    "\n"
   ]
  },
  {
   "cell_type": "code",
   "execution_count": 31,
   "id": "b46cd136",
   "metadata": {},
   "outputs": [],
   "source": [
    "X_train1 = x_train1.sort_index()\n",
    "Y_train1 = y_train1.sort_index()\n",
    "X_test1 = x_test1.sort_index()\n",
    "Y_test1 = y_test1.sort_index()\n"
   ]
  },
  {
   "cell_type": "code",
   "execution_count": 32,
   "id": "ea833a75",
   "metadata": {},
   "outputs": [],
   "source": [
    "from sklearn.preprocessing import StandardScaler \n",
    "sc = StandardScaler()\n",
    "\n",
    "X_train1 = sc.fit_transform(X_train1)\n",
    "X_test1 = sc.fit_transform(X_test1)\n",
    "Y_train1 = sc.fit_transform(Y_train1)\n",
    "Y_test1 = sc.fit_transform(Y_test1)"
   ]
  },
  {
   "cell_type": "code",
   "execution_count": 33,
   "id": "d6c423b6",
   "metadata": {},
   "outputs": [],
   "source": [
    "from sklearn.linear_model import LinearRegression\n",
    "lr = LinearRegression()\n",
    "\n",
    "lr.fit(X_train1,Y_train1)\n",
    "\n",
    "y_pred1 = lr.predict(X_test1)    # y_pred =? Y_test\n",
    "\n"
   ]
  },
  {
   "cell_type": "code",
   "execution_count": 34,
   "id": "27360244",
   "metadata": {},
   "outputs": [
    {
     "data": {
      "text/plain": [
       "Text(0, 0.5, 'Profit')"
      ]
     },
     "execution_count": 34,
     "metadata": {},
     "output_type": "execute_result"
    },
    {
     "data": {
      "image/png": "[encoded data removed]",
      "text/plain": [
       "<Figure size 432x288 with 1 Axes>"
      ]
     },
     "metadata": {
      "needs_background": "light"
     },
     "output_type": "display_data"
    }
   ],
   "source": [
    "plt.scatter(X_train1,Y_train1)\n",
    "plt.plot(X_train1,lr.predict(X_train1), color = \"r\")\n",
    "plt.title(\"Şehir nüfusuna göre kar miktarı\")\n",
    "plt.xlabel(\"Population\")\n",
    "plt.ylabel(\"Profit\")"
   ]
  },
  {
   "cell_type": "markdown",
   "id": "42c35c45",
   "metadata": {},
   "source": []
  },
  {
   "cell_type": "code",
   "execution_count": 35,
   "id": "eab0c80b",
   "metadata": {},
   "outputs": [
    {
     "name": "stdout",
     "output_type": "stream",
     "text": [
      "For population = 70,000, we predict a profit of $-47054.82083827418\n"
     ]
    }
   ],
   "source": [
    "deg = lr.predict([[7]])*10000\n",
    "\n",
    "print(\"For population = 70,000, we predict a profit of $\"+str(deg[0][0]))\n",
    "\n"
   ]
  },
  {
   "cell_type": "code",
   "execution_count": 36,
   "id": "54e7763c",
   "metadata": {},
   "outputs": [
    {
     "name": "stdout",
     "output_type": "stream",
     "text": [
      "R-squared:  0.46387218181524625\n"
     ]
    }
   ],
   "source": [
    "from sklearn.metrics import r2_score\n",
    "\n",
    "print(\"R-squared: \", r2_score(Y_test1, y_pred1))"
   ]
  },
  {
   "cell_type": "code",
   "execution_count": 37,
   "id": "4865e25b",
   "metadata": {},
   "outputs": [
    {
     "name": "stdout",
     "output_type": "stream",
     "text": [
      "Mean Squared Error değeri: 0.53613\n"
     ]
    }
   ],
   "source": [
    "def mSE(y_pred, y_test):\n",
    "    \n",
    "    return np.sum((y_pred- y_test)**2) / len(y_pred)\n",
    "\n",
    "\n",
    "mSE(y_pred1, Y_test1)\n",
    "\n",
    "print(\"Mean Squared Error değeri: \"+ str(round(mSE(y_pred1,Y_test1),5)))"
   ]
  },
  {
   "cell_type": "code",
   "execution_count": null,
   "id": "4aad6a6d",
   "metadata": {},
   "outputs": [],
   "source": []
  }
 ],
 "metadata": {
  "kernelspec": {
   "display_name": "Python 3",
   "language": "python",
   "name": "python3"
  },
  "language_info": {
   "codemirror_mode": {
    "name": "ipython",
    "version": 3
   },
   "file_extension": ".py",
   "mimetype": "text/x-python",
   "name": "python",
   "nbconvert_exporter": "python",
   "pygments_lexer": "ipython3",
   "version": "3.8.8"
  }
 },
 "nbformat": 4,
 "nbformat_minor": 5
}
